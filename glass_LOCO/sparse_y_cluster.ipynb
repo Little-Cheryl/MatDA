{
 "cells": [
  {
   "cell_type": "code",
   "execution_count": 1,
   "id": "b50b947e",
   "metadata": {},
   "outputs": [],
   "source": [
    "import pandas as pd\n",
    "from sklearn.cluster import KMeans\n",
    "import json"
   ]
  },
  {
   "cell_type": "code",
   "execution_count": 2,
   "id": "047c3d2b",
   "metadata": {},
   "outputs": [],
   "source": [
    "file_path = 'glass_y_sparse_cluster_50_clusters.json'\n",
    "n_clusters = 50\n",
    "\n",
    "# Read the data from the CSV file\n",
    "df_data = pd.read_csv(\"glass_features.csv\")\n",
    "\n",
    "excluded = [\"formula\", \"composition\", \"formula\", \"gfa\"]\n",
    "y = df_data['gfa'].values\n",
    "X = df_data.drop(excluded, axis=1)"
   ]
  },
  {
   "cell_type": "code",
   "execution_count": 3,
   "id": "ec06e13e",
   "metadata": {},
   "outputs": [
    {
     "data": {
      "text/plain": [
       "(5680,)"
      ]
     },
     "execution_count": 3,
     "metadata": {},
     "output_type": "execute_result"
    }
   ],
   "source": [
    "y.shape"
   ]
  },
  {
   "cell_type": "code",
   "execution_count": null,
   "id": "792076b6",
   "metadata": {},
   "outputs": [],
   "source": []
  },
  {
   "cell_type": "code",
   "execution_count": null,
   "id": "a4531779",
   "metadata": {},
   "outputs": [],
   "source": []
  },
  {
   "cell_type": "code",
   "execution_count": null,
   "id": "fcba7262",
   "metadata": {},
   "outputs": [],
   "source": [
    "\n"
   ]
  },
  {
   "cell_type": "code",
   "execution_count": 4,
   "id": "979419f0",
   "metadata": {},
   "outputs": [],
   "source": [
    "import numpy as np\n",
    "from scipy.stats import gaussian_kde\n",
    "\n",
    "# Generate a sample one-dimensional vector\n",
    "#np.random.seed(42)\n",
    "#vector = np.random.randn(100)\n",
    "\n",
    "# Estimate the density using kernel density estimation\n",
    "kde = gaussian_kde(y)\n",
    "\n",
    "# Evaluate the estimated density at sample points\n",
    "sample_points = np.linspace(y.min(), y.max(), 100)\n",
    "densities = kde(sample_points)\n",
    "\n",
    "# Print the estimated density values\n",
    "# for i in range(len(sample_points)):\n",
    "#     print(f\"Density at sample point {sample_points[i]}: {density[i]}\")"
   ]
  },
  {
   "cell_type": "code",
   "execution_count": 5,
   "id": "0025c1d9",
   "metadata": {},
   "outputs": [
    {
     "name": "stdout",
     "output_type": "stream",
     "text": [
      "(100, 133)\n"
     ]
    }
   ],
   "source": [
    "\n",
    "density_dict = {}\n",
    "\n",
    "# Print the density values for each sample position\n",
    "for i in range(len(densities)):\n",
    "    density = densities[i]\n",
    "    #print(f\"Density at sample position {i+1}: {density}\")\n",
    "    \n",
    "    density_dict[i] = density\n",
    "\n",
    "#print(density_dict)\n",
    "\n",
    "sorted_density = sorted(density_dict.items(), key=lambda x: x[1])\n",
    "#print(sorted_density)\n",
    "top500 = [x[0] for x in sorted_density[:500]]\n",
    "X_sparse = X.iloc[top500]\n",
    "print(X_sparse.shape)"
   ]
  },
  {
   "cell_type": "code",
   "execution_count": 6,
   "id": "dfa7a1a8",
   "metadata": {},
   "outputs": [],
   "source": [
    "id_map = {}\n",
    "\n",
    "for i, index in enumerate(top500):\n",
    "    id_map[i] = top500[i]\n",
    "    \n",
    "\n",
    "    "
   ]
  },
  {
   "cell_type": "code",
   "execution_count": null,
   "id": "09182257",
   "metadata": {},
   "outputs": [],
   "source": []
  },
  {
   "cell_type": "code",
   "execution_count": 7,
   "id": "091ce1d8",
   "metadata": {
    "scrolled": true
   },
   "outputs": [
    {
     "name": "stderr",
     "output_type": "stream",
     "text": [
      "/Users/jason/opt/anaconda3/lib/python3.9/site-packages/sklearn/cluster/_kmeans.py:870: FutureWarning: The default value of `n_init` will change from 10 to 'auto' in 1.4. Set the value of `n_init` explicitly to suppress the warning\n",
      "  warnings.warn(\n"
     ]
    }
   ],
   "source": [
    "# Perform KMeans clustering\n",
    "kmeans = KMeans(n_clusters=n_clusters, max_iter=500, random_state=222)\n",
    "kmeans.fit(X_sparse)\n",
    "labels = kmeans.labels_\n",
    "centers = kmeans.cluster_centers_\n",
    "\n",
    "# Print cluster labels and centers\n",
    "#print(\"Cluster Labels:\", labels)\n",
    "#print(\"Cluster Centers:\", centers)\n",
    "\n",
    "# Create a dictionary to store the cluster assignments\n",
    "cluster = {}\n",
    "#print(labels)\n",
    "for i, cluster_id in enumerate(labels):\n",
    "    if cluster_id in cluster:\n",
    "        #cluster[int(cluster_id)].append(i)\n",
    "        continue\n",
    "    else:\n",
    "        cluster[int(cluster_id)] = [id_map[i]]\n",
    "\n",
    "\n",
    "\n",
    "\n",
    "\n"
   ]
  },
  {
   "cell_type": "code",
   "execution_count": 8,
   "id": "262b304e",
   "metadata": {},
   "outputs": [
    {
     "name": "stdout",
     "output_type": "stream",
     "text": [
      "{5: [49], 3: [48], 35: [50], 20: [47], 17: [51], 29: [46], 21: [52], 6: [45], 15: [44], 30: [54], 41: [56], 12: [41], 44: [59], 1: [36], 33: [62], 26: [63], 47: [34], 49: [64], 8: [65], 16: [31], 37: [67], 40: [29], 9: [27], 14: [71], 2: [24], 22: [73], 25: [74], 46: [22], 34: [21], 23: [17], 48: [14], 13: [82], 42: [13], 18: [12], 43: [9], 31: [7], 38: [87], 27: [4], 11: [88], 24: [1], 4: [0], 39: [90], 36: [91], 0: [92], 10: [94], 45: [95], 7: [96], 32: [97], 19: [98], 28: [99]}\n"
     ]
    }
   ],
   "source": [
    "print(cluster)"
   ]
  },
  {
   "cell_type": "code",
   "execution_count": 9,
   "id": "e14aa38e",
   "metadata": {
    "scrolled": true
   },
   "outputs": [
    {
     "name": "stdout",
     "output_type": "stream",
     "text": [
      "[92, 123, 121, 93, 122, 127, 116, 113, 119, 118, 90]\n",
      "[36, 35, 34, 17, 16, 63, 33, 15, 7, 29, 6]\n",
      "[24, 20, 18, 38, 53, 50, 37, 52, 62, 25, 39]\n",
      "[48, 72, 64, 73, 79, 88, 342, 360, 287, 262, 153]\n",
      "[0, 483, 484, 500, 522, 528, 539, 545, 486, 551, 553]\n",
      "[49, 60, 154, 67, 58, 46, 47, 159, 160, 161, 158]\n",
      "[45, 44, 31, 61, 30, 22, 19, 23, 21, 42, 8]\n",
      "[96, 135, 136, 99, 97, 134, 148, 142, 137, 141, 147]\n",
      "[65, 55, 75, 77, 89, 51, 86, 74, 84, 40, 56]\n",
      "[27, 3, 28, 13, 2, 4, 10, 9, 5, 59, 14]\n",
      "[94, 130, 65, 157, 24, 78, 71, 111, 66, 85, 81]\n",
      "[88, 48, 567, 617, 662, 663, 712, 664, 679, 721, 699]\n",
      "[41, 32, 57, 54, 70, 43, 69, 26, 68, 76, 156]\n",
      "[82, 83, 101, 109, 108, 110, 106, 87, 112, 102, 115]\n",
      "[71, 80, 104, 176, 41, 168, 195, 91, 120, 244, 267]\n",
      "[44, 45, 132, 129, 151, 150, 164, 268, 269, 264, 280]\n",
      "[31, 265, 278, 285, 284, 311, 272, 296, 313, 337, 273]\n",
      "[51, 274, 279, 126, 223, 301, 312, 295, 324, 323, 345]\n",
      "[12, 11, 27, 36, 139, 138, 144, 149, 1, 96, 98]\n",
      "[98, 146, 95, 145, 133, 100, 238, 237, 239, 254, 253]\n",
      "[47, 49, 107, 169, 82, 171, 170, 172, 173, 114, 163]\n",
      "[52, 327, 338, 344, 354, 356, 94, 333, 419, 390, 442]\n",
      "[73, 803, 805, 804, 131, 427, 389, 437, 438, 439, 564]\n",
      "[17, 12, 257, 256, 277, 241, 255, 240, 242, 143, 243]\n",
      "[1, 252, 251, 302, 303, 304, 317, 275, 318, 246, 305]\n",
      "[74, 185, 184, 186, 182, 180, 178, 177, 179, 181, 183]\n",
      "[63, 319, 353, 320, 351, 352, 347, 346, 309, 308, 276]\n",
      "[4, 247, 248, 249, 306, 307, 314, 315, 316, 348, 321]\n",
      "[99, 349, 350, 417, 416, 426, 421, 420, 418, 425, 422]\n",
      "[46, 234, 266, 259, 271, 260, 286, 289, 258, 293, 282]\n",
      "[54, 281, 288, 330, 340, 298, 332, 187, 188, 328, 197]\n",
      "[7, 415, 424, 423, 310, 167, 444, 341, 477, 105, 103]\n",
      "[97, 1061, 1115, 810, 815, 1172, 809, 842, 814, 841, 808]\n",
      "[62, 198, 196, 191, 192, 199, 200, 335, 210, 211, 209]\n",
      "[21, 331, 263, 355, 261, 207, 326, 205, 208, 206, 92]\n",
      "[50, 212, 213, 561, 217, 216, 587, 218, 219, 299, 591]\n",
      "[91, 570, 592, 603, 226, 225, 224, 228, 227, 232, 231]\n",
      "[67, 152, 174, 162, 175, 117, 189, 193, 190, 250, 194]\n",
      "[87, 203, 202, 201, 204, 124, 214, 215, 125, 221, 220]\n",
      "[90, 128, 222, 229, 230, 233, 235, 236, 297, 270, 300]\n",
      "[29, 813, 840, 870, 907, 931, 936, 935, 930, 627, 934]\n",
      "[56, 334, 357, 358, 359, 362, 363, 364, 365, 366, 370]\n",
      "[13, 933, 932, 754, 758, 989, 988, 290, 291, 987, 1220]\n",
      "[9, 826, 829, 827, 828, 832, 844, 1235, 857, 851, 1006]\n",
      "[59, 702, 986, 714, 985, 292, 1070, 294, 1005, 689, 1031]\n",
      "[95, 853, 872, 880, 855, 1039, 889, 1141, 1140, 1138, 1104]\n",
      "[22, 325, 343, 371, 329, 372, 381, 384, 387, 386, 375]\n",
      "[34, 717, 745, 747, 385, 383, 382, 374, 373, 388, 393]\n",
      "[14, 399, 394, 400, 283, 568, 413, 412, 411, 1030, 410]\n",
      "[64, 409, 408, 407, 414, 440, 428, 429, 430, 433, 434]\n",
      "5 [49, 60, 154, 67, 58, 46, 47, 159, 160, 161, 158]\n",
      "3 [48, 72, 64, 73, 79, 88, 342, 360, 287, 262, 153]\n",
      "35 [50, 212, 213, 561, 217, 216, 587, 218, 219, 299, 591]\n",
      "20 [47, 49, 107, 169, 82, 171, 170, 172, 173, 114, 163]\n",
      "17 [51, 274, 279, 126, 223, 301, 312, 295, 324, 323, 345]\n",
      "29 [46, 234, 266, 259, 271, 260, 286, 289, 258, 293, 282]\n",
      "21 [52, 327, 338, 344, 354, 356, 94, 333, 419, 390, 442]\n",
      "6 [45, 44, 31, 61, 30, 22, 19, 23, 21, 42, 8]\n",
      "15 [44, 45, 132, 129, 151, 150, 164, 268, 269, 264, 280]\n",
      "30 [54, 281, 288, 330, 340, 298, 332, 187, 188, 328, 197]\n",
      "41 [56, 334, 357, 358, 359, 362, 363, 364, 365, 366, 370]\n",
      "12 [41, 32, 57, 54, 70, 43, 69, 26, 68, 76, 156]\n",
      "44 [59, 702, 986, 714, 985, 292, 1070, 294, 1005, 689, 1031]\n",
      "1 [36, 35, 34, 17, 16, 63, 33, 15, 7, 29, 6]\n",
      "33 [62, 198, 196, 191, 192, 199, 200, 335, 210, 211, 209]\n",
      "26 [63, 319, 353, 320, 351, 352, 347, 346, 309, 308, 276]\n",
      "47 [34, 717, 745, 747, 385, 383, 382, 374, 373, 388, 393]\n",
      "49 [64, 409, 408, 407, 414, 440, 428, 429, 430, 433, 434]\n",
      "8 [65, 55, 75, 77, 89, 51, 86, 74, 84, 40, 56]\n",
      "16 [31, 265, 278, 285, 284, 311, 272, 296, 313, 337, 273]\n",
      "37 [67, 152, 174, 162, 175, 117, 189, 193, 190, 250, 194]\n",
      "40 [29, 813, 840, 870, 907, 931, 936, 935, 930, 627, 934]\n",
      "9 [27, 3, 28, 13, 2, 4, 10, 9, 5, 59, 14]\n",
      "14 [71, 80, 104, 176, 41, 168, 195, 91, 120, 244, 267]\n",
      "2 [24, 20, 18, 38, 53, 50, 37, 52, 62, 25, 39]\n",
      "22 [73, 803, 805, 804, 131, 427, 389, 437, 438, 439, 564]\n",
      "25 [74, 185, 184, 186, 182, 180, 178, 177, 179, 181, 183]\n",
      "46 [22, 325, 343, 371, 329, 372, 381, 384, 387, 386, 375]\n",
      "34 [21, 331, 263, 355, 261, 207, 326, 205, 208, 206, 92]\n",
      "23 [17, 12, 257, 256, 277, 241, 255, 240, 242, 143, 243]\n",
      "48 [14, 399, 394, 400, 283, 568, 413, 412, 411, 1030, 410]\n",
      "13 [82, 83, 101, 109, 108, 110, 106, 87, 112, 102, 115]\n",
      "42 [13, 933, 932, 754, 758, 989, 988, 290, 291, 987, 1220]\n",
      "18 [12, 11, 27, 36, 139, 138, 144, 149, 1, 96, 98]\n",
      "43 [9, 826, 829, 827, 828, 832, 844, 1235, 857, 851, 1006]\n",
      "31 [7, 415, 424, 423, 310, 167, 444, 341, 477, 105, 103]\n",
      "38 [87, 203, 202, 201, 204, 124, 214, 215, 125, 221, 220]\n",
      "27 [4, 247, 248, 249, 306, 307, 314, 315, 316, 348, 321]\n",
      "11 [88, 48, 567, 617, 662, 663, 712, 664, 679, 721, 699]\n",
      "24 [1, 252, 251, 302, 303, 304, 317, 275, 318, 246, 305]\n",
      "4 [0, 483, 484, 500, 522, 528, 539, 545, 486, 551, 553]\n",
      "39 [90, 128, 222, 229, 230, 233, 235, 236, 297, 270, 300]\n",
      "36 [91, 570, 592, 603, 226, 225, 224, 228, 227, 232, 231]\n",
      "0 [92, 123, 121, 93, 122, 127, 116, 113, 119, 118, 90]\n",
      "10 [94, 130, 65, 157, 24, 78, 71, 111, 66, 85, 81]\n",
      "45 [95, 853, 872, 880, 855, 1039, 889, 1141, 1140, 1138, 1104]\n",
      "7 [96, 135, 136, 99, 97, 134, 148, 142, 137, 141, 147]\n",
      "32 [97, 1061, 1115, 810, 815, 1172, 809, 842, 814, 841, 808]\n",
      "19 [98, 146, 95, 145, 133, 100, 238, 237, 239, 254, 253]\n",
      "28 [99, 349, 350, 417, 416, 426, 421, 420, 418, 425, 422]\n"
     ]
    }
   ],
   "source": [
    "selected_samples = []\n",
    "\n",
    "# Print the size of each cluster\n",
    "for key in sorted(cluster):\n",
    "    #print(key, (cluster[key]))\n",
    "    anchor_index = cluster[key][0]\n",
    "\n",
    "    anchor_feature = X.iloc[anchor_index]\n",
    "    #print(anchor_feature)\n",
    "    distance_dict = {}\n",
    "    for row_index in range(X.shape[0]):\n",
    "        f = X.iloc[row_index]\n",
    "        euclidean_distance = np.linalg.norm(anchor_feature - f)\n",
    "        #print(euclidean_distance)\n",
    "        \n",
    "        if row_index == anchor_index:\n",
    "            continue\n",
    "        else:\n",
    "            distance_dict[row_index] = euclidean_distance\n",
    "    distance_dict = sorted(distance_dict.items(), key=lambda x: x[1])\n",
    "    #print(distance_dict)\n",
    "    n_added = 0\n",
    "    for ck in distance_dict:\n",
    "        if ck[0] not in selected_samples and n_added < 10:\n",
    "            cluster[key].append(ck[0])\n",
    "            selected_samples.append(ck[0])\n",
    "            n_added += 1\n",
    "    print(cluster[key])\n",
    "    #break\n",
    "for key in cluster:\n",
    "    print(key, cluster[key])"
   ]
  },
  {
   "cell_type": "code",
   "execution_count": 10,
   "id": "3c6af6c1",
   "metadata": {},
   "outputs": [
    {
     "name": "stdout",
     "output_type": "stream",
     "text": [
      "Al18FeCu\n",
      "Al23FeNi\n",
      "Al23Fe2\n",
      "Al18FeNi\n",
      "Al23FeCo\n",
      "Al24Fe\n",
      "Al22FeNi2\n",
      "Al22Fe2Ni\n",
      "Al23CoNi\n",
      "Al23Co2\n",
      "Al18CoNi\n"
     ]
    }
   ],
   "source": [
    "# Example: Print formulas in cluster 0\n",
    "for index in cluster[0]:\n",
    "    print(df_data.iloc[index][\"formula\"])\n",
    "    \n",
    "# Save the dictionary to a file in JSON format\n",
    "with open(file_path, 'w') as file:\n",
    "    json.dump(cluster, file)"
   ]
  },
  {
   "cell_type": "code",
   "execution_count": null,
   "id": "3307289b",
   "metadata": {},
   "outputs": [],
   "source": []
  }
 ],
 "metadata": {
  "kernelspec": {
   "display_name": "Python 3 (ipykernel)",
   "language": "python",
   "name": "python3"
  },
  "language_info": {
   "codemirror_mode": {
    "name": "ipython",
    "version": 3
   },
   "file_extension": ".py",
   "mimetype": "text/x-python",
   "name": "python",
   "nbconvert_exporter": "python",
   "pygments_lexer": "ipython3",
   "version": "3.9.16"
  }
 },
 "nbformat": 4,
 "nbformat_minor": 5
}
