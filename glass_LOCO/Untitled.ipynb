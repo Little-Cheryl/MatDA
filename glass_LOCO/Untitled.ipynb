{
 "cells": [
  {
   "cell_type": "code",
   "execution_count": 2,
   "id": "ce9f41e5",
   "metadata": {},
   "outputs": [],
   "source": [
    "from sklearn.model_selection import KFold\n",
    "import json\n",
    "import pandas as pd\n",
    "import numpy as np"
   ]
  },
  {
   "cell_type": "code",
   "execution_count": 4,
   "id": "439ac83c",
   "metadata": {},
   "outputs": [],
   "source": [
    "featurefile = 'glass_features.csv'\n",
    "property_column='gfa'\n",
    "\n",
    "df2 = pd.read_csv(featurefile)\n",
    "\n",
    "y = df2[property_column].values\n",
    "excluded = [\"formula\", \"composition\", \"formula\", property_column]\n",
    "X = df2.drop(excluded, axis=1)"
   ]
  },
  {
   "cell_type": "code",
   "execution_count": 5,
   "id": "fc6000c3",
   "metadata": {},
   "outputs": [],
   "source": [
    "kfold = KFold(n_splits=5, shuffle=True)"
   ]
  },
  {
   "cell_type": "code",
   "execution_count": 10,
   "id": "d9c82d66",
   "metadata": {
    "scrolled": true
   },
   "outputs": [
    {
     "name": "stdout",
     "output_type": "stream",
     "text": [
      "Train index: (4544, 133)\n",
      "Test index: [   2    7    9 ... 5653 5668 5678]\n",
      "------------------\n",
      "Train index: (4544, 133)\n",
      "Test index: [  11   15   17 ... 5667 5669 5673]\n",
      "------------------\n",
      "Train index: (4544, 133)\n",
      "Test index: [   0    1   20 ... 5672 5675 5676]\n",
      "------------------\n",
      "Train index: (4544, 133)\n",
      "Test index: [   4   10   13 ... 5674 5677 5679]\n",
      "------------------\n",
      "Train index: (4544, 133)\n",
      "Test index: [   3    5    6 ... 5659 5661 5671]\n",
      "------------------\n"
     ]
    }
   ],
   "source": [
    "for train_index, test_index in kfold.split(X):\n",
    "    # Split the data into train and test sets\n",
    "    X_train, X_test = X.iloc[train_index], X.iloc[test_index]\n",
    "    y_train, y_test = y[train_index], y[test_index]\n",
    "\n",
    "    # Perform your training and evaluation using X_train, y_train, X_test, and y_test\n",
    "    # ...\n",
    "\n",
    "    # Print the sizes of train and test sets\n",
    "    print(\"Train index:\", X_train.shape)\n",
    "    print(\"Test index:\", test_index)\n",
    "    print(\"------------------\")"
   ]
  },
  {
   "cell_type": "code",
   "execution_count": 11,
   "id": "35796df5",
   "metadata": {},
   "outputs": [],
   "source": [
    "df = pd.read_csv(\"modnet_glass_dataset.csv\")"
   ]
  },
  {
   "cell_type": "code",
   "execution_count": 12,
   "id": "a45e5a8a",
   "metadata": {},
   "outputs": [
    {
     "data": {
      "text/plain": [
       "5680"
      ]
     },
     "execution_count": 12,
     "metadata": {},
     "output_type": "execute_result"
    }
   ],
   "source": [
    "len(df[\"composition\"])"
   ]
  },
  {
   "cell_type": "code",
   "execution_count": 13,
   "id": "6a1fcb3e",
   "metadata": {},
   "outputs": [
    {
     "data": {
      "text/plain": [
       "5680"
      ]
     },
     "execution_count": 13,
     "metadata": {},
     "output_type": "execute_result"
    }
   ],
   "source": [
    "len(df[\"gfa\"])"
   ]
  },
  {
   "cell_type": "code",
   "execution_count": null,
   "id": "31b431a6",
   "metadata": {},
   "outputs": [],
   "source": []
  }
 ],
 "metadata": {
  "kernelspec": {
   "display_name": "Python 3 (ipykernel)",
   "language": "python",
   "name": "python3"
  },
  "language_info": {
   "codemirror_mode": {
    "name": "ipython",
    "version": 3
   },
   "file_extension": ".py",
   "mimetype": "text/x-python",
   "name": "python",
   "nbconvert_exporter": "python",
   "pygments_lexer": "ipython3",
   "version": "3.10.6"
  }
 },
 "nbformat": 4,
 "nbformat_minor": 5
}
