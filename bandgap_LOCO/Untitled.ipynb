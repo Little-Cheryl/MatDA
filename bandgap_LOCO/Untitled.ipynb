{
 "cells": [
  {
   "cell_type": "code",
   "execution_count": 13,
   "id": "c1fde0c5",
   "metadata": {},
   "outputs": [],
   "source": [
    "import pandas as pd\n",
    "import json\n",
    "import numpy as np"
   ]
  },
  {
   "cell_type": "code",
   "execution_count": 14,
   "id": "d19b41ac",
   "metadata": {},
   "outputs": [],
   "source": [
    "file_path0 = 'bandgap_target_clusters50.json'\n",
    "file_path1 = 'glass_target_clusters50.json'"
   ]
  },
  {
   "cell_type": "code",
   "execution_count": 24,
   "id": "59a63595",
   "metadata": {},
   "outputs": [
    {
     "data": {
      "text/plain": [
       "(232, 16)"
      ]
     },
     "execution_count": 24,
     "metadata": {},
     "output_type": "execute_result"
    }
   ],
   "source": [
    "with open(file_path0, 'r') as file:\n",
    "    cluster_ids = json.load(file)\n",
    "lens=[]\n",
    "for i, cluster_id in enumerate(range(0,50)):\n",
    "    target_id_list = cluster_ids[str(cluster_id)]\n",
    "    lens.append(len(target_id_list))\n",
    "np.max(lens), np.min(lens)"
   ]
  },
  {
   "cell_type": "code",
   "execution_count": 23,
   "id": "fcdb89f6",
   "metadata": {},
   "outputs": [
    {
     "data": {
      "text/plain": [
       "(321, 9)"
      ]
     },
     "execution_count": 23,
     "metadata": {},
     "output_type": "execute_result"
    }
   ],
   "source": [
    "with open(file_path1, 'r') as file:\n",
    "    cluster_ids = json.load(file)\n",
    "lens=[]\n",
    "for i, cluster_id in enumerate(range(0,50)):\n",
    "    target_id_list = cluster_ids[str(cluster_id)]\n",
    "    lens.append(len(target_id_list))\n",
    "np.mean(lens)\n",
    "np.max(lens), np.min(lens)"
   ]
  },
  {
   "cell_type": "code",
   "execution_count": 27,
   "id": "28a1017b",
   "metadata": {},
   "outputs": [
    {
     "data": {
      "text/plain": [
       "2.5"
      ]
     },
     "execution_count": 27,
     "metadata": {},
     "output_type": "execute_result"
    }
   ],
   "source": [
    "5 / 2"
   ]
  },
  {
   "cell_type": "code",
   "execution_count": 38,
   "id": "c8966c5a",
   "metadata": {},
   "outputs": [],
   "source": [
    "n = [0.5, 0.5, 0.5, 0.5, 0.5, 0.5, 0.5, 0.5, 1.0, 0.5, 0.5, 1.0, 0.5, 0.5, 1.0, 0.5, 1.0, 0.5, 1.0, 0.5, 0.5, 1.0, 0.5, 0.5, 1.0, 0.5, 0.5, 0.5, 0.5, 0.5, 0.5, 0.5, 1.0, 1.0, 0.5, 0.5, 1.0, 0.5, 0.5, 0.0, 0.5, 0.5, 0.5, 0.5, 0.5, 0.5, 0.5, 1.0, 0.5]\n"
   ]
  },
  {
   "cell_type": "code",
   "execution_count": 39,
   "id": "2dd86673",
   "metadata": {},
   "outputs": [
    {
     "data": {
      "text/plain": [
       "49"
      ]
     },
     "execution_count": 39,
     "metadata": {},
     "output_type": "execute_result"
    }
   ],
   "source": [
    "len(n)"
   ]
  },
  {
   "cell_type": "code",
   "execution_count": 30,
   "id": "e529e5dd",
   "metadata": {},
   "outputs": [],
   "source": [
    "import numpy"
   ]
  },
  {
   "cell_type": "code",
   "execution_count": 31,
   "id": "34ce8c99",
   "metadata": {},
   "outputs": [
    {
     "data": {
      "text/plain": [
       "0.1701016143991604"
      ]
     },
     "execution_count": 31,
     "metadata": {},
     "output_type": "execute_result"
    }
   ],
   "source": [
    "numpy.std(n)"
   ]
  },
  {
   "cell_type": "code",
   "execution_count": 35,
   "id": "f7e287ea",
   "metadata": {},
   "outputs": [],
   "source": [
    "base=[0.48, 0.5862068965517242, 0.8189160086145011, 0.865995115995116, 0.5178571428571429, 0.5624195624195625, 0.7020381561796422, 0.5092879256965944, 0.6452830188679245, 0.5172413793103449, 0.7247493578589775, 0.6349290780141844, 0.6617647058823529, 0.8364121510673235, 0.5, 0.6847826086956521, 0.5, 0.5, 0.5301120448179272, 0.5323639774859287, 0.646551724137931, 0.625, 0.5, 0.5281269641734758, 0.5, 0.9075352315214265, 0.8158153778847206, 0.8249232119350592, 0.65, 1.0, 0.6004709576138147, 0.9182424916573971, 0.784639303482587, 0.5909090909090909, 0.6785714285714286, 0.5, 0.8234108527131783, 0.625, 0.765625, 0.5, 0.4861111111111111, 0.7833333333333333, 0.4888888888888889, 0.5, 0.7795232936078007, 0.6, 0.7957459207459208, 0.5, 0.5955882352941176, 0.8614864864864865]\n",
    "adapt=[0.5, 0.5, 0.5, 0.8887987012987013, 0.5333333333333333, 0.5641711229946524, 0.7212475633528266, 0.5912790697674418, 0.5416666666666666, 0.6, 0.583960843373494, 0.5333333333333333, 0.5588235294117647, 0.8333333333333333, 0.5, 0.6111111111111112, 0.5, 0.5, 0.6411149825783972, 0.5, 0.5, 0.5, 0.5, 0.5789473684210527, 0.5, 0.7388888888888889, 0.7192835621024439, 0.675, 0.75, 1.0, 0.6382978723404256, 1.0, 0.6998754669987547, 0.5, 0.5, 0.5, 0.663594470046083, 0.5, 0.7727272727272727, 0.5, 1.0, 0.8076923076923077, 0.5, 0.5, 0.8714285714285714, 0.6666666666666666, 0.9047619047619048, 0.9, 0.5, 0.8333333333333333]\n"
   ]
  },
  {
   "cell_type": "code",
   "execution_count": 37,
   "id": "d076f00c",
   "metadata": {},
   "outputs": [
    {
     "data": {
      "text/plain": [
       "0.14199844127639638"
      ]
     },
     "execution_count": 37,
     "metadata": {},
     "output_type": "execute_result"
    }
   ],
   "source": [
    "numpy.std(base)"
   ]
  },
  {
   "cell_type": "code",
   "execution_count": null,
   "id": "7f4a803c",
   "metadata": {},
   "outputs": [],
   "source": []
  }
 ],
 "metadata": {
  "kernelspec": {
   "display_name": "Python 3 (ipykernel)",
   "language": "python",
   "name": "python3"
  },
  "language_info": {
   "codemirror_mode": {
    "name": "ipython",
    "version": 3
   },
   "file_extension": ".py",
   "mimetype": "text/x-python",
   "name": "python",
   "nbconvert_exporter": "python",
   "pygments_lexer": "ipython3",
   "version": "3.10.6"
  }
 },
 "nbformat": 4,
 "nbformat_minor": 5
}
