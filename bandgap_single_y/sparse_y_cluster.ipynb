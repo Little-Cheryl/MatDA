{
 "cells": [
  {
   "cell_type": "code",
   "execution_count": 7,
   "id": "b50b947e",
   "metadata": {},
   "outputs": [],
   "source": [
    "import pandas as pd\n",
    "from sklearn.cluster import KMeans\n",
    "import json"
   ]
  },
  {
   "cell_type": "code",
   "execution_count": 8,
   "id": "047c3d2b",
   "metadata": {},
   "outputs": [],
   "source": [
    "file_path = 'bandgap_y_sparse_cluster_50_clusters.json'\n",
    "n_clusters = 50\n",
    "\n",
    "# Read the data from the CSV file\n",
    "df_data = pd.read_csv(\"bandgap_features.csv\")\n",
    "\n",
    "excluded = [\"formula\", \"composition\", \"formula\", \"gap expt\"]\n",
    "y = df_data['gap expt'].values\n",
    "X = df_data.drop(excluded, axis=1)"
   ]
  },
  {
   "cell_type": "code",
   "execution_count": 9,
   "id": "ec06e13e",
   "metadata": {},
   "outputs": [
    {
     "data": {
      "text/plain": [
       "(4604,)"
      ]
     },
     "execution_count": 9,
     "metadata": {},
     "output_type": "execute_result"
    }
   ],
   "source": [
    "y.shape"
   ]
  },
  {
   "cell_type": "code",
   "execution_count": null,
   "id": "792076b6",
   "metadata": {},
   "outputs": [],
   "source": []
  },
  {
   "cell_type": "code",
   "execution_count": null,
   "id": "a4531779",
   "metadata": {},
   "outputs": [],
   "source": []
  },
  {
   "cell_type": "code",
   "execution_count": null,
   "id": "fcba7262",
   "metadata": {},
   "outputs": [],
   "source": [
    "\n"
   ]
  },
  {
   "cell_type": "code",
   "execution_count": 10,
   "id": "979419f0",
   "metadata": {},
   "outputs": [],
   "source": [
    "import numpy as np\n",
    "from scipy.stats import gaussian_kde\n",
    "\n",
    "# Generate a sample one-dimensional vector\n",
    "#np.random.seed(42)\n",
    "#vector = np.random.randn(100)\n",
    "\n",
    "# Estimate the density using kernel density estimation\n",
    "kde = gaussian_kde(y)\n",
    "\n",
    "# Evaluate the estimated density at sample points\n",
    "sample_points = np.linspace(y.min(), y.max(), 100)\n",
    "densities = kde(sample_points)\n",
    "\n",
    "# Print the estimated density values\n",
    "# for i in range(len(sample_points)):\n",
    "#     print(f\"Density at sample point {sample_points[i]}: {density[i]}\")"
   ]
  },
  {
   "cell_type": "code",
   "execution_count": 11,
   "id": "0025c1d9",
   "metadata": {},
   "outputs": [
    {
     "name": "stdout",
     "output_type": "stream",
     "text": [
      "(100, 133)\n"
     ]
    }
   ],
   "source": [
    "\n",
    "density_dict = {}\n",
    "\n",
    "# Print the density values for each sample position\n",
    "for i in range(len(densities)):\n",
    "    density = densities[i]\n",
    "    #print(f\"Density at sample position {i+1}: {density}\")\n",
    "    \n",
    "    density_dict[i] = density\n",
    "\n",
    "#print(density_dict)\n",
    "\n",
    "sorted_density = sorted(density_dict.items(), key=lambda x: x[1])\n",
    "#print(sorted_density)\n",
    "top500 = [x[0] for x in sorted_density[:500]]\n",
    "X_sparse = X.iloc[top500]\n",
    "print(X_sparse.shape)"
   ]
  },
  {
   "cell_type": "code",
   "execution_count": 17,
   "id": "dfa7a1a8",
   "metadata": {},
   "outputs": [],
   "source": [
    "id_map = {}\n",
    "\n",
    "for i, index in enumerate(top500):\n",
    "    id_map[i] = top500[i]\n",
    "    \n",
    "\n",
    "    "
   ]
  },
  {
   "cell_type": "code",
   "execution_count": null,
   "id": "09182257",
   "metadata": {},
   "outputs": [],
   "source": []
  },
  {
   "cell_type": "code",
   "execution_count": 18,
   "id": "091ce1d8",
   "metadata": {
    "scrolled": true
   },
   "outputs": [],
   "source": [
    "# Perform KMeans clustering\n",
    "kmeans = KMeans(n_clusters=n_clusters, max_iter=500, random_state=222)\n",
    "kmeans.fit(X_sparse)\n",
    "labels = kmeans.labels_\n",
    "centers = kmeans.cluster_centers_\n",
    "\n",
    "# Print cluster labels and centers\n",
    "#print(\"Cluster Labels:\", labels)\n",
    "#print(\"Cluster Centers:\", centers)\n",
    "\n",
    "# Create a dictionary to store the cluster assignments\n",
    "cluster = {}\n",
    "#print(labels)\n",
    "for i, cluster_id in enumerate(labels):\n",
    "    if cluster_id in cluster:\n",
    "        #cluster[int(cluster_id)].append(i)\n",
    "        continue\n",
    "    else:\n",
    "        cluster[int(cluster_id)] = [id_map[i]]\n",
    "\n",
    "\n",
    "\n",
    "\n",
    "\n"
   ]
  },
  {
   "cell_type": "code",
   "execution_count": 14,
   "id": "262b304e",
   "metadata": {},
   "outputs": [
    {
     "name": "stdout",
     "output_type": "stream",
     "text": [
      "{12: [75], 49: [76], 2: [74], 34: [77], 32: [73], 28: [78], 33: [99], 30: [96], 16: [98], 35: [95], 1: [72], 39: [94], 36: [79], 31: [71], 6: [93], 45: [80], 40: [69], 22: [92], 18: [91], 42: [90], 38: [83], 5: [66], 23: [84], 13: [86], 8: [61], 11: [59], 26: [45], 20: [44], 0: [42], 9: [41], 7: [40], 27: [39], 48: [38], 41: [34], 25: [33], 44: [31], 37: [30], 17: [27], 4: [25], 19: [23], 43: [8], 29: [9], 14: [22], 46: [21], 21: [13], 10: [14], 24: [20], 15: [4], 3: [1], 47: [0]}\n"
     ]
    }
   ],
   "source": [
    "print(cluster)"
   ]
  },
  {
   "cell_type": "code",
   "execution_count": 15,
   "id": "e14aa38e",
   "metadata": {
    "scrolled": true
   },
   "outputs": [
    {
     "name": "stdout",
     "output_type": "stream",
     "text": [
      "[42, 10, 136, 19, 36, 5, 95, 116, 272, 85, 15]\n",
      "[72, 94, 90, 87, 75, 88, 84, 92, 118, 370, 80]\n",
      "[74, 97, 24, 7, 105, 96, 6, 226, 235, 31, 3]\n",
      "[1, 33, 173, 519, 518, 123, 293, 187, 200, 404, 251]\n",
      "[25, 121, 350, 344, 103, 86, 369, 520, 565, 321, 591]\n",
      "[66, 63, 62, 55, 56, 50, 16, 20, 17, 18, 21]\n",
      "[93, 73, 89, 76, 81, 115, 160, 119, 585, 109, 157]\n",
      "[40, 11, 108, 170, 102, 267, 190, 222, 362, 410, 411]\n",
      "[61, 57, 65, 54, 60, 64, 67, 52, 53, 48, 68]\n",
      "[41, 396, 408, 107, 114, 110, 535, 315, 147, 768, 163]\n",
      "[14, 175, 271, 265, 300, 230, 241, 284, 338, 264, 221]\n",
      "[59, 58, 51, 49, 46, 112, 255, 172, 101, 83, 69]\n",
      "[75, 72, 161, 162, 521, 399, 149, 529, 429, 442, 809]\n",
      "[86, 79, 25, 256, 428, 343, 531, 326, 595, 563, 99]\n",
      "[22, 12, 37, 35, 104, 34, 188, 232, 252, 185, 42]\n",
      "[4, 562, 159, 93, 561, 441, 129, 253, 373, 261, 372]\n",
      "[98, 43, 106, 59, 186, 356, 522, 406, 419, 227, 417]\n",
      "[27, 26, 28, 30, 2, 38, 29, 201, 8, 302, 225]\n",
      "[91, 781, 1, 189, 545, 228, 1151, 462, 833, 1128, 497]\n",
      "[23, 176, 287, 333, 281, 135, 572, 66, 578, 573, 575]\n",
      "[44, 100, 727, 351, 744, 41, 592, 887, 128, 524, 697]\n",
      "[13, 526, 554, 430, 400, 423, 726, 734, 731, 842, 614]\n",
      "[92, 13, 627, 788, 98, 214, 594, 194, 860, 552, 757]\n",
      "[84, 758, 603, 674, 865, 898, 878, 775, 719, 900, 818]\n",
      "[20, 23, 540, 340, 570, 236, 556, 234, 539, 600, 322]\n",
      "[33, 183, 91, 342, 845, 795, 615, 551, 620, 231, 889]\n",
      "[45, 164, 169, 125, 197, 249, 191, 193, 378, 195, 247]\n",
      "[39, 393, 492, 113, 432, 297, 553, 40, 244, 405, 246]\n",
      "[78, 268, 158, 259, 260, 353, 262, 126, 242, 296, 273]\n",
      "[9, 137, 283, 464, 199, 282, 407, 298, 458, 685, 14]\n",
      "[96, 218, 130, 275, 258, 74, 124, 132, 134, 223, 32]\n",
      "[71, 70, 61, 82, 177, 174, 120, 207, 131, 216, 208]\n",
      "[73, 4, 825, 285, 467, 78, 377, 609, 44, 847, 117]\n",
      "[99, 346, 329, 295, 574, 586, 546, 602, 564, 583, 542]\n",
      "[77, 245, 139, 330, 142, 140, 153, 415, 144, 179, 178]\n",
      "[95, 22, 279, 317, 318, 348, 299, 395, 243, 381, 416]\n",
      "[79, 728, 618, 625, 543, 626, 560, 628, 806, 567, 568]\n",
      "[30, 27, 224, 203, 133, 0, 304, 345, 204, 310, 233]\n",
      "[83, 238, 239, 254, 220, 217, 289, 168, 71, 347, 334]\n",
      "[94, 250, 198, 718, 508, 248, 196, 834, 880, 893, 192]\n",
      "[69, 445, 447, 449, 450, 451, 452, 453, 512, 209, 413]\n",
      "[34, 308, 122, 309, 359, 361, 337, 305, 324, 392, 278]\n",
      "[90, 394, 537, 45, 861, 763, 212, 1217, 527, 422, 850]\n",
      "[8, 306, 364, 311, 215, 314, 386, 379, 210, 387, 205]\n",
      "[31, 380, 360, 358, 420, 219, 166, 290, 320, 288, 167]\n",
      "[80, 791, 859, 780, 846, 438, 613, 851, 732, 884, 437]\n",
      "[21, 206, 772, 797, 327, 649, 675, 657, 656, 659, 676]\n",
      "[0, 213, 414, 536, 532, 211, 534, 530, 608, 528, 589]\n",
      "[38, 165, 47, 325, 367, 303, 312, 368, 323, 171, 266]\n",
      "[76, 127, 606, 826, 762, 152, 371, 1228, 803, 901, 607]\n",
      "12 [75, 72, 161, 162, 521, 399, 149, 529, 429, 442, 809]\n",
      "49 [76, 127, 606, 826, 762, 152, 371, 1228, 803, 901, 607]\n",
      "2 [74, 97, 24, 7, 105, 96, 6, 226, 235, 31, 3]\n",
      "34 [77, 245, 139, 330, 142, 140, 153, 415, 144, 179, 178]\n",
      "32 [73, 4, 825, 285, 467, 78, 377, 609, 44, 847, 117]\n",
      "28 [78, 268, 158, 259, 260, 353, 262, 126, 242, 296, 273]\n",
      "33 [99, 346, 329, 295, 574, 586, 546, 602, 564, 583, 542]\n",
      "30 [96, 218, 130, 275, 258, 74, 124, 132, 134, 223, 32]\n",
      "16 [98, 43, 106, 59, 186, 356, 522, 406, 419, 227, 417]\n",
      "35 [95, 22, 279, 317, 318, 348, 299, 395, 243, 381, 416]\n",
      "1 [72, 94, 90, 87, 75, 88, 84, 92, 118, 370, 80]\n",
      "39 [94, 250, 198, 718, 508, 248, 196, 834, 880, 893, 192]\n",
      "36 [79, 728, 618, 625, 543, 626, 560, 628, 806, 567, 568]\n",
      "31 [71, 70, 61, 82, 177, 174, 120, 207, 131, 216, 208]\n",
      "6 [93, 73, 89, 76, 81, 115, 160, 119, 585, 109, 157]\n",
      "45 [80, 791, 859, 780, 846, 438, 613, 851, 732, 884, 437]\n",
      "40 [69, 445, 447, 449, 450, 451, 452, 453, 512, 209, 413]\n",
      "22 [92, 13, 627, 788, 98, 214, 594, 194, 860, 552, 757]\n",
      "18 [91, 781, 1, 189, 545, 228, 1151, 462, 833, 1128, 497]\n",
      "42 [90, 394, 537, 45, 861, 763, 212, 1217, 527, 422, 850]\n",
      "38 [83, 238, 239, 254, 220, 217, 289, 168, 71, 347, 334]\n",
      "5 [66, 63, 62, 55, 56, 50, 16, 20, 17, 18, 21]\n",
      "23 [84, 758, 603, 674, 865, 898, 878, 775, 719, 900, 818]\n",
      "13 [86, 79, 25, 256, 428, 343, 531, 326, 595, 563, 99]\n",
      "8 [61, 57, 65, 54, 60, 64, 67, 52, 53, 48, 68]\n",
      "11 [59, 58, 51, 49, 46, 112, 255, 172, 101, 83, 69]\n",
      "26 [45, 164, 169, 125, 197, 249, 191, 193, 378, 195, 247]\n",
      "20 [44, 100, 727, 351, 744, 41, 592, 887, 128, 524, 697]\n",
      "0 [42, 10, 136, 19, 36, 5, 95, 116, 272, 85, 15]\n",
      "9 [41, 396, 408, 107, 114, 110, 535, 315, 147, 768, 163]\n",
      "7 [40, 11, 108, 170, 102, 267, 190, 222, 362, 410, 411]\n",
      "27 [39, 393, 492, 113, 432, 297, 553, 40, 244, 405, 246]\n",
      "48 [38, 165, 47, 325, 367, 303, 312, 368, 323, 171, 266]\n",
      "41 [34, 308, 122, 309, 359, 361, 337, 305, 324, 392, 278]\n",
      "25 [33, 183, 91, 342, 845, 795, 615, 551, 620, 231, 889]\n",
      "44 [31, 380, 360, 358, 420, 219, 166, 290, 320, 288, 167]\n",
      "37 [30, 27, 224, 203, 133, 0, 304, 345, 204, 310, 233]\n",
      "17 [27, 26, 28, 30, 2, 38, 29, 201, 8, 302, 225]\n",
      "4 [25, 121, 350, 344, 103, 86, 369, 520, 565, 321, 591]\n",
      "19 [23, 176, 287, 333, 281, 135, 572, 66, 578, 573, 575]\n",
      "43 [8, 306, 364, 311, 215, 314, 386, 379, 210, 387, 205]\n",
      "29 [9, 137, 283, 464, 199, 282, 407, 298, 458, 685, 14]\n",
      "14 [22, 12, 37, 35, 104, 34, 188, 232, 252, 185, 42]\n",
      "46 [21, 206, 772, 797, 327, 649, 675, 657, 656, 659, 676]\n",
      "21 [13, 526, 554, 430, 400, 423, 726, 734, 731, 842, 614]\n",
      "10 [14, 175, 271, 265, 300, 230, 241, 284, 338, 264, 221]\n",
      "24 [20, 23, 540, 340, 570, 236, 556, 234, 539, 600, 322]\n",
      "15 [4, 562, 159, 93, 561, 441, 129, 253, 373, 261, 372]\n",
      "3 [1, 33, 173, 519, 518, 123, 293, 187, 200, 404, 251]\n",
      "47 [0, 213, 414, 536, 532, 211, 534, 530, 608, 528, 589]\n"
     ]
    }
   ],
   "source": [
    "selected_samples = []\n",
    "\n",
    "# Print the size of each cluster\n",
    "for key in sorted(cluster):\n",
    "    #print(key, (cluster[key]))\n",
    "    anchor_index = cluster[key][0]\n",
    "\n",
    "    anchor_feature = X.iloc[anchor_index]\n",
    "    #print(anchor_feature)\n",
    "    distance_dict = {}\n",
    "    for row_index in range(X.shape[0]):\n",
    "        f = X.iloc[row_index]\n",
    "        euclidean_distance = np.linalg.norm(anchor_feature - f)\n",
    "        #print(euclidean_distance)\n",
    "        \n",
    "        if row_index == anchor_index:\n",
    "            continue\n",
    "        else:\n",
    "            distance_dict[row_index] = euclidean_distance\n",
    "    distance_dict = sorted(distance_dict.items(), key=lambda x: x[1])\n",
    "    #print(distance_dict)\n",
    "    n_added = 0\n",
    "    for ck in distance_dict:\n",
    "        if ck[0] not in selected_samples and n_added < 10:\n",
    "            cluster[key].append(ck[0])\n",
    "            selected_samples.append(ck[0])\n",
    "            n_added += 1\n",
    "    print(cluster[key])\n",
    "    #break\n",
    "for key in cluster:\n",
    "    print(key, cluster[key])"
   ]
  },
  {
   "cell_type": "code",
   "execution_count": 16,
   "id": "3c6af6c1",
   "metadata": {},
   "outputs": [
    {
     "name": "stdout",
     "output_type": "stream",
     "text": [
      "AgSO4\n",
      "Ag2P2PbO7\n",
      "AuBrO2\n",
      "Ag7NO11\n",
      "AgGeO3\n",
      "Ag2BiO3\n",
      "AlAgO2\n",
      "As2O3\n",
      "Ba3Eu(PO4)3\n",
      "Al4Cu2O7\n",
      "Ag5IO6\n"
     ]
    }
   ],
   "source": [
    "# Example: Print formulas in cluster 0\n",
    "for index in cluster[0]:\n",
    "    print(df_data.iloc[index][\"formula\"])\n",
    "    \n",
    "# Save the dictionary to a file in JSON format\n",
    "with open(file_path, 'w') as file:\n",
    "    json.dump(cluster, file)"
   ]
  },
  {
   "cell_type": "code",
   "execution_count": null,
   "id": "3307289b",
   "metadata": {},
   "outputs": [],
   "source": []
  }
 ],
 "metadata": {
  "kernelspec": {
   "display_name": "Python 3 (ipykernel)",
   "language": "python",
   "name": "python3"
  },
  "language_info": {
   "codemirror_mode": {
    "name": "ipython",
    "version": 3
   },
   "file_extension": ".py",
   "mimetype": "text/x-python",
   "name": "python",
   "nbconvert_exporter": "python",
   "pygments_lexer": "ipython3",
   "version": "3.9.13"
  }
 },
 "nbformat": 4,
 "nbformat_minor": 5
}
