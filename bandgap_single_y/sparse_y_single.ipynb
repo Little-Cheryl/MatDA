{
 "cells": [
  {
   "cell_type": "code",
   "execution_count": 23,
   "id": "b50b947e",
   "metadata": {},
   "outputs": [],
   "source": [
    "import pandas as pd\n",
    "from sklearn.cluster import KMeans\n",
    "import json"
   ]
  },
  {
   "cell_type": "code",
   "execution_count": 24,
   "id": "047c3d2b",
   "metadata": {},
   "outputs": [],
   "source": [
    "file_path = 'bandgap_y_sparse_single_50_clusters.json'\n",
    "n_clusters = 50\n",
    "\n",
    "# Read the data from the CSV file\n",
    "df_data = pd.read_csv(\"bandgap_features.csv\")\n",
    "\n",
    "excluded = [\"formula\", \"composition\", \"formula\", \"gap expt\"]\n",
    "y = df_data['gap expt'].values\n",
    "X = df_data.drop(excluded, axis=1)"
   ]
  },
  {
   "cell_type": "code",
   "execution_count": 25,
   "id": "ec06e13e",
   "metadata": {},
   "outputs": [
    {
     "data": {
      "text/plain": [
       "(4604,)"
      ]
     },
     "execution_count": 25,
     "metadata": {},
     "output_type": "execute_result"
    }
   ],
   "source": [
    "y.shape"
   ]
  },
  {
   "cell_type": "code",
   "execution_count": 26,
   "id": "792076b6",
   "metadata": {
    "scrolled": true
   },
   "outputs": [],
   "source": [
    "import numpy as np\n",
    "from scipy.stats import gaussian_kde\n",
    "\n",
    "# Generate a sample one-dimensional vector\n",
    "#np.random.seed(42)\n",
    "#vector = np.random.randn(100)\n",
    "\n",
    "# Estimate the density using kernel density estimation\n",
    "kde = gaussian_kde(y)\n",
    "\n",
    "# Evaluate the estimated density at sample points\n",
    "sample_points = np.linspace(y.min(), y.max(), 100)\n",
    "densities = kde(sample_points)\n",
    "\n",
    "# Print the estimated density values\n",
    "# for i in range(len(sample_points)):\n",
    "#     print(f\"Density at sample point {sample_points[i]}: {density[i]}\")\n"
   ]
  },
  {
   "cell_type": "code",
   "execution_count": 27,
   "id": "0025c1d9",
   "metadata": {},
   "outputs": [
    {
     "name": "stdout",
     "output_type": "stream",
     "text": [
      "(100, 133)\n"
     ]
    }
   ],
   "source": [
    "\n",
    "\n",
    "density_dict = {}\n",
    "\n",
    "# Print the density values for each sample position\n",
    "for i in range(len(densities)):\n",
    "    density = densities[i]\n",
    "    #print(f\"Density at sample position {i+1}: {density}\")\n",
    "    \n",
    "    density_dict[i] = density\n",
    "\n",
    "#print(density_dict)\n",
    "\n",
    "sorted_density = sorted(density_dict.items(), key=lambda x: x[1])\n",
    "#print(sorted_density)\n",
    "top500 = [x[0] for x in sorted_density[:500]]\n",
    "X_sparse = X.iloc[top500]\n",
    "print(X_sparse.shape)"
   ]
  },
  {
   "cell_type": "code",
   "execution_count": 28,
   "id": "dfa7a1a8",
   "metadata": {},
   "outputs": [],
   "source": [
    "id_map = {}\n",
    "\n",
    "for i, index in enumerate(top500):\n",
    "    id_map[i] = top500[i]\n",
    "    \n",
    "#id_map"
   ]
  },
  {
   "cell_type": "code",
   "execution_count": 29,
   "id": "091ce1d8",
   "metadata": {},
   "outputs": [],
   "source": [
    "# Perform KMeans clustering\n",
    "kmeans = KMeans(n_clusters=n_clusters, max_iter=500, random_state=222)\n",
    "kmeans.fit(X_sparse)\n",
    "labels = kmeans.labels_\n",
    "centers = kmeans.cluster_centers_\n",
    "\n",
    "# Print cluster labels and centers\n",
    "#print(\"Cluster Labels:\", labels)\n",
    "#print(\"Cluster Centers:\", centers)\n",
    "\n",
    "# Create a dictionary to store the cluster assignments\n",
    "cluster = {}\n",
    "#print(labels)\n",
    "for i, cluster_id in enumerate(labels):\n",
    "    if cluster_id in cluster:\n",
    "        #cluster[int(cluster_id)].append(i)\n",
    "        continue\n",
    "    else:\n",
    "        cluster[int(cluster_id)] = [id_map[i]]\n",
    "\n",
    "# Print the size of each cluster\n",
    "#for key in sorted(cluster):\n",
    "    #print(key, (cluster[key]))\n",
    "\n",
    "# Example: Print formulas in cluster 0\n",
    "#for index in cluster[0]:\n",
    "    #print(df_data.iloc[index][\"formula\"])\n",
    "\n",
    "# Save the dictionary to a file in JSON format\n",
    "with open(file_path, 'w') as file:\n",
    "    json.dump(cluster, file)"
   ]
  },
  {
   "cell_type": "code",
   "execution_count": null,
   "id": "09182257",
   "metadata": {},
   "outputs": [],
   "source": []
  },
  {
   "cell_type": "code",
   "execution_count": null,
   "id": "2de8ea8e",
   "metadata": {},
   "outputs": [],
   "source": []
  }
 ],
 "metadata": {
  "kernelspec": {
   "display_name": "Python 3 (ipykernel)",
   "language": "python",
   "name": "python3"
  },
  "language_info": {
   "codemirror_mode": {
    "name": "ipython",
    "version": 3
   },
   "file_extension": ".py",
   "mimetype": "text/x-python",
   "name": "python",
   "nbconvert_exporter": "python",
   "pygments_lexer": "ipython3",
   "version": "3.10.6"
  }
 },
 "nbformat": 4,
 "nbformat_minor": 5
}
