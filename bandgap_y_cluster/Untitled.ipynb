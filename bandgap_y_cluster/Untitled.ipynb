{
 "cells": [
  {
   "cell_type": "code",
   "execution_count": 12,
   "id": "6ffbf56d",
   "metadata": {},
   "outputs": [
    {
     "name": "stdout",
     "output_type": "stream",
     "text": [
      "[183, 189, 545, 187, 342, 462, 795, 79, 256, 99, 43, 98, 343, 106, 86, 103, 172, 344, 189, 33, 889, 199, 407, 137, 458, 464, 91, 86, 121, 350, 79, 25, 428, 531, 595, 520, 565, 13, 342, 404, 293, 231, 551, 251, 228, 200, 889, 833, 1128, 518, 845, 322, 295, 568, 567, 447, 445, 449, 450, 543, 451, 452, 284, 298, 300, 175, 620, 615, 123, 1, 173, 497, 519, 127, 171, 272, 574, 586, 563, 546, 369, 321, 326, 540, 570, 556, 575, 572, 539, 340, 578, 573, 333, 287]\n",
      "94\n"
     ]
    }
   ],
   "source": [
    "import pandas as pd\n",
    "import json\n",
    "\n",
    "# Open the JSON file\n",
    "with open('bandgap_x_sparse_cluster_50_clusters.json') as f:\n",
    "    # Load the JSON data\n",
    "    data_x_cluster = json.load(f)\n",
    "\n",
    "with open('bandgap_y_sparse_cluster_50_clusters.json') as f:\n",
    "    # Load the JSON data\n",
    "    data_y_cluster = json.load(f)\n",
    "    \n",
    "# print(data_x_cluster)\n",
    "# print(data_y_cluster)\n",
    "\n",
    "data_x_list = []\n",
    "for key in data_x_cluster:\n",
    "    #print(key, data_x_cluster[key])\n",
    "    for value in data_x_cluster[key]:\n",
    "        data_x_list.append(value)\n",
    "        \n",
    "data_y_list = []\n",
    "for key in data_y_cluster:\n",
    "    #print(key, data_y_cluster[key])\n",
    "    for value in data_y_cluster[key]:\n",
    "        data_y_list.append(value)\n",
    "\n",
    "#print(data_x_list)\n",
    "#print(data_y_list)\n",
    "\n",
    "common = []\n",
    "for value in data_x_list:\n",
    "    if value in data_y_list:\n",
    "        common.append(value)\n",
    "        \n",
    "print(common)\n",
    "print(len(common))"
   ]
  },
  {
   "cell_type": "code",
   "execution_count": null,
   "id": "2c570fa7",
   "metadata": {},
   "outputs": [],
   "source": []
  }
 ],
 "metadata": {
  "kernelspec": {
   "display_name": "Python 3 (ipykernel)",
   "language": "python",
   "name": "python3"
  },
  "language_info": {
   "codemirror_mode": {
    "name": "ipython",
    "version": 3
   },
   "file_extension": ".py",
   "mimetype": "text/x-python",
   "name": "python",
   "nbconvert_exporter": "python",
   "pygments_lexer": "ipython3",
   "version": "3.10.6"
  }
 },
 "nbformat": 4,
 "nbformat_minor": 5
}
